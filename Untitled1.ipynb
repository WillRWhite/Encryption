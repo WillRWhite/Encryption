{
  "nbformat": 4,
  "nbformat_minor": 0,
  "metadata": {
    "colab": {
      "provenance": [],
      "authorship_tag": "ABX9TyNxWInFInPwd0+HN7GSabwr",
      "include_colab_link": true
    },
    "kernelspec": {
      "name": "python3",
      "display_name": "Python 3"
    },
    "language_info": {
      "name": "python"
    }
  },
  "cells": [
    {
      "cell_type": "markdown",
      "metadata": {
        "id": "view-in-github",
        "colab_type": "text"
      },
      "source": [
        "<a href=\"https://colab.research.google.com/github/WillRWhite/Encryption/blob/master/Untitled1.ipynb\" target=\"_parent\"><img src=\"https://colab.research.google.com/assets/colab-badge.svg\" alt=\"Open In Colab\"/></a>"
      ]
    },
    {
      "cell_type": "code",
      "execution_count": 1,
      "metadata": {
        "colab": {
          "base_uri": "https://localhost:8080/"
        },
        "id": "snMhqQoPAFUv",
        "outputId": "20acd388-3d27-4749-c399-f2c27f2114dc"
      },
      "outputs": [
        {
          "output_type": "stream",
          "name": "stdout",
          "text": [
            "10.89056498432883\n"
          ]
        }
      ],
      "source": [
        "# Function to integrate\n",
        "\n",
        "import math\n",
        "\n",
        "\"\"\"\n",
        "def func(x):\n",
        "    return ((x**4 + 3*x**2)/(4*x**(1/2)))\n",
        "\n",
        "def func(x):\n",
        "    if ((x > 6) & (x < 6.55)):\n",
        "        return(100)\n",
        "    else:\n",
        "        return(0)\n",
        "\n",
        "\n",
        "def func(x):\n",
        "    return (x**2)\n",
        "\n",
        "\"\"\"\n",
        "# This Python program integrates the function f(x)\n",
        "# over the interval [a,b] using the Riemann Integral\n",
        "\n",
        "# Define the function to be integrated\n",
        "def f(x):\n",
        "    return ( math.sin(x) + 0.05*(x**2) )\n",
        "\n",
        "# Differential:\n",
        "dx = 0.1 # 0.000001 is a good value\n",
        "# Interval:\n",
        "a = -5.3 # Lower bound -5.3\n",
        "b = 7.8 # Upper bound 7.8\n",
        "\n",
        "# Riemann integral\n",
        "# https://en.wikipedia.org/wiki/Riemann_integral\n",
        "# https://en.wikipedia.org/wiki/Darboux_integral#:~:text=For%20any%20given%20partition%2C%20the,and%20height%20sup(f).\n",
        "# https://en.wikipedia.org/wiki/Integral\n",
        "\n",
        "x = a + dx/2\n",
        "area = 0\n",
        "while (x <= b):\n",
        "    area = area + f(x)*dx\n",
        "    x = x + dx\n",
        "\n",
        "print(area)\n",
        "\n",
        "\n"
      ]
    }
  ]
}